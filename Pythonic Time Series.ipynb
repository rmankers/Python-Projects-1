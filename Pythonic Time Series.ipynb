{
 "cells": [
  {
   "cell_type": "markdown",
   "metadata": {
    "heading_collapsed": true
   },
   "source": [
    "# Imports"
   ]
  },
  {
   "cell_type": "code",
   "execution_count": 1,
   "metadata": {
    "ExecuteTime": {
     "end_time": "2020-12-26T17:41:38.845343Z",
     "start_time": "2020-12-26T17:41:35.681714Z"
    },
    "hidden": true
   },
   "outputs": [],
   "source": [
    "# importing required libraries\n",
    "import pandas as pd\n",
    "import numpy as np\n",
    "import category_encoders as ce\n",
    "import matplotlib.pyplot as plt\n",
    "import re\n",
    "from datetime import datetime as dt\n",
    "import calendar as cl\n",
    "from scipy.interpolate import interp1d\n",
    "\n",
    "from IPython.core.interactiveshell import InteractiveShell\n",
    "InteractiveShell.ast_node_interactivity = \"all\""
   ]
  },
  {
   "cell_type": "markdown",
   "metadata": {
    "heading_collapsed": true
   },
   "source": [
    "# Read Data"
   ]
  },
  {
   "cell_type": "code",
   "execution_count": 2,
   "metadata": {
    "ExecuteTime": {
     "end_time": "2020-12-26T17:41:43.208110Z",
     "start_time": "2020-12-26T17:41:43.129577Z"
    },
    "hidden": true
   },
   "outputs": [],
   "source": [
    "# Read in data\n",
    "temp = pd.read_csv('/Users/mfairb/Documents/ML Projects/Project - Pythonic Time Series/Milestone 1 Dataset/hr_temp_20170201-20200131_subset.csv')\n",
    "#temp2 = pd.read_csv('/Users/mfairb/Documents/ML Projects/Project - Pythonic Time Series/Milestone 1 Dataset/hr_temp_20200201-20200229_subset.csv')\n",
    "meter = pd.read_csv('/Users/mfairb/Documents/ML Projects/Project - Pythonic Time Series/Milestone 1 Dataset/hrl_load_metered - 20170201-20200131.csv')"
   ]
  },
  {
   "cell_type": "markdown",
   "metadata": {
    "heading_collapsed": true
   },
   "source": [
    "# Cleaning"
   ]
  },
  {
   "cell_type": "code",
   "execution_count": 4,
   "metadata": {
    "ExecuteTime": {
     "end_time": "2020-12-26T17:52:34.982104Z",
     "start_time": "2020-12-26T17:41:59.002663Z"
    },
    "hidden": true
   },
   "outputs": [],
   "source": [
    "# Keep only needed columns in temp and meter\n",
    "temp = temp[['DATE', 'HourlyDryBulbTemperature']]\n",
    "meter = meter[['datetime_beginning_utc', 'datetime_beginning_ept', 'mw']]\n",
    "\n",
    "# Adjust column names\n",
    "temp = temp.rename(columns={'DATE':'date'})\n",
    "meter = meter.rename(columns={'datetime_beginning_utc':'b_utc',\n",
    "                              'datetime_beginning_ept':'b_ept'})\n",
    "\n",
    "# Standardize time format between sets (using format from temp)\n",
    "temp['date'] = pd.to_datetime(temp['date'])\n",
    "meter['b_utc'] = pd.to_datetime(meter['b_utc'])\n",
    "meter['b_ept'] = pd.to_datetime(meter['b_ept'])\n",
    "\n",
    "# Adjust time marks for dates (make equal to nearest hour)\n",
    "        # ex: 2020-01-12 03:53:00 -> 2020-01-12 04:00:00\n",
    "        # ex: 2019-12-31 23:53:00 -> 2020-01-00 00:00:00\n",
    "def closest_date(date_set, date):\n",
    "    if date.hour==23:\n",
    "        return min(date_set, key=lambda x: abs(x - date))\n",
    "    else:\n",
    "        return date.replace(hour = date.hour + 1,\n",
    "                            minute = 0)\n",
    "\n",
    "temp['date'] = [closest_date(meter.b_ept, t) for t in temp.date]"
   ]
  },
  {
   "cell_type": "markdown",
   "metadata": {
    "heading_collapsed": true
   },
   "source": [
    "# Creating Train vs. Test"
   ]
  },
  {
   "cell_type": "code",
   "execution_count": 6,
   "metadata": {
    "ExecuteTime": {
     "end_time": "2020-12-26T17:53:03.398050Z",
     "start_time": "2020-12-26T17:53:02.585856Z"
    },
    "hidden": true
   },
   "outputs": [],
   "source": [
    "# Join on date (date & b_ept)\n",
    "df = pd.merge(temp, meter, left_on='date', right_on='b_ept', how='inner')\n",
    "\n",
    "# Create hour, day, month, year columns\n",
    "new_columns = ['hour', 'day', 'month', 'year']\n",
    "for c in new_columns:\n",
    "    df[c] = [eval(f't.{c}') for t in df.date]\n",
    "\n",
    "# Adjust columns and set index\n",
    "df = df.rename(columns={'HourlyDryBulbTemperature':'temp'})\n",
    "df = df[['date','mw','temp','hour','day', 'month', 'year']]\n",
    "df = df.set_index('date')\n",
    "\n",
    "# Interpolating\n",
    "df['key'] = range(0, df.shape[0])\n",
    "f = interp1d(df.key[~df.temp.isnull()], df.temp[~df.temp.isnull()], kind='linear')\n",
    "df['temp'] = f(df.key)\n",
    "df = df.drop(['key'], axis=1)\n",
    "\n",
    "# Create train & test\n",
    "train = df[df.year < 2020]\n",
    "test = df[df.year >= 2020]"
   ]
  }
 ],
 "metadata": {
  "kernelspec": {
   "display_name": "Python 3",
   "language": "python",
   "name": "python3"
  },
  "language_info": {
   "codemirror_mode": {
    "name": "ipython",
    "version": 3
   },
   "file_extension": ".py",
   "mimetype": "text/x-python",
   "name": "python",
   "nbconvert_exporter": "python",
   "pygments_lexer": "ipython3",
   "version": "3.7.6"
  }
 },
 "nbformat": 4,
 "nbformat_minor": 4
}
